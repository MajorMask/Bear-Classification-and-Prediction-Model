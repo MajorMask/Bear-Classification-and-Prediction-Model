{
 "cells": [
  {
   "cell_type": "code",
   "execution_count": 3,
   "metadata": {},
   "outputs": [
    {
     "name": "stdout",
     "output_type": "stream",
     "text": [
      "Requirement already satisfied: spyder in c:\\users\\asus\\anaconda3\\lib\\site-packages (5.2.2)\n",
      "Requirement already satisfied: cookiecutter>=1.6.0 in c:\\users\\asus\\anaconda3\\lib\\site-packages (from spyder) (1.7.3)\n",
      "Requirement already satisfied: qtawesome>=1.0.2 in c:\\users\\asus\\anaconda3\\lib\\site-packages (from spyder) (1.0.3)\n",
      "Requirement already satisfied: pickleshare>=0.4 in c:\\users\\asus\\anaconda3\\lib\\site-packages (from spyder) (0.7.5)\n",
      "Requirement already satisfied: diff-match-patch>=20181111 in c:\\users\\asus\\anaconda3\\lib\\site-packages (from spyder) (20200713)\n",
      "Requirement already satisfied: watchdog>=0.10.3 in c:\\users\\asus\\anaconda3\\lib\\site-packages (from spyder) (2.1.6)\n",
      "Requirement already satisfied: psutil>=5.3 in c:\\users\\asus\\anaconda3\\lib\\site-packages (from spyder) (5.9.0)\n",
      "Requirement already satisfied: python-lsp-black>=1.0.0 in c:\\users\\asus\\anaconda3\\lib\\site-packages (from spyder) (1.0.0)\n",
      "Requirement already satisfied: pyls-spyder>=0.4.0 in c:\\users\\asus\\anaconda3\\lib\\site-packages (from spyder) (0.4.0)\n",
      "Requirement already satisfied: textdistance>=4.2.0 in c:\\users\\asus\\anaconda3\\lib\\site-packages (from spyder) (4.2.1)\n",
      "Requirement already satisfied: three-merge>=0.1.1 in c:\\users\\asus\\anaconda3\\lib\\site-packages (from spyder) (0.1.1)\n",
      "Requirement already satisfied: numpydoc>=0.6.0 in c:\\users\\asus\\anaconda3\\lib\\site-packages (from spyder) (1.4.0)\n",
      "Requirement already satisfied: qdarkstyle==3.0.2 in c:\\users\\asus\\anaconda3\\lib\\site-packages (from spyder) (3.0.2)\n",
      "Requirement already satisfied: nbconvert>=4.0 in c:\\users\\asus\\anaconda3\\lib\\site-packages (from spyder) (7.2.4)\n",
      "Requirement already satisfied: python-lsp-server[all]<1.4.0,>=1.3.2 in c:\\users\\asus\\anaconda3\\lib\\site-packages (from spyder) (1.3.3)\n",
      "Requirement already satisfied: pyqt5<5.13 in c:\\users\\asus\\anaconda3\\lib\\site-packages (from spyder) (5.12.3)\n",
      "Requirement already satisfied: parso<0.9.0,>=0.7.0 in c:\\users\\asus\\anaconda3\\lib\\site-packages (from spyder) (0.8.3)\n",
      "Requirement already satisfied: qstylizer>=0.1.10 in c:\\users\\asus\\anaconda3\\lib\\site-packages (from spyder) (0.1.10)\n",
      "Requirement already satisfied: intervaltree>=3.0.2 in c:\\users\\asus\\anaconda3\\lib\\site-packages (from spyder) (3.1.0)\n",
      "Requirement already satisfied: atomicwrites>=1.2.0 in c:\\users\\asus\\anaconda3\\lib\\site-packages (from spyder) (1.4.0)\n",
      "Requirement already satisfied: keyring>=17.0.0 in c:\\users\\asus\\anaconda3\\lib\\site-packages (from spyder) (23.4.0)\n",
      "Requirement already satisfied: jsonschema>=3.2.0 in c:\\users\\asus\\anaconda3\\lib\\site-packages (from spyder) (4.16.0)\n",
      "Requirement already satisfied: pyzmq>=17 in c:\\users\\asus\\anaconda3\\lib\\site-packages (from spyder) (23.2.0)\n",
      "Requirement already satisfied: chardet>=2.0.0 in c:\\users\\asus\\anaconda3\\lib\\site-packages (from spyder) (4.0.0)\n",
      "Requirement already satisfied: paramiko>=2.4.0 in c:\\users\\asus\\anaconda3\\lib\\site-packages (from spyder) (2.8.1)\n",
      "Requirement already satisfied: pylint>=2.5.0 in c:\\users\\asus\\anaconda3\\lib\\site-packages (from spyder) (2.14.5)\n",
      "Requirement already satisfied: spyder-kernels<2.3.0,>=2.2.1 in c:\\users\\asus\\anaconda3\\lib\\site-packages (from spyder) (2.2.1)\n",
      "Requirement already satisfied: jedi<0.19.0,>=0.17.2 in c:\\users\\asus\\anaconda3\\lib\\site-packages (from spyder) (0.18.1)\n",
      "Requirement already satisfied: pygments>=2.0 in c:\\users\\asus\\anaconda3\\lib\\site-packages (from spyder) (2.11.2)\n",
      "Requirement already satisfied: setuptools>=49.6.0 in c:\\users\\asus\\anaconda3\\lib\\site-packages (from spyder) (63.4.1)\n",
      "Requirement already satisfied: jellyfish>=0.7 in c:\\users\\asus\\anaconda3\\lib\\site-packages (from spyder) (0.9.0)\n",
      "Requirement already satisfied: ipython<8.0.0,>=7.6.0 in c:\\users\\asus\\anaconda3\\lib\\site-packages (from spyder) (7.31.1)\n",
      "Requirement already satisfied: pyqtwebengine<5.13 in c:\\users\\asus\\anaconda3\\lib\\site-packages (from spyder) (5.12.1)\n",
      "Requirement already satisfied: cloudpickle>=0.5.0 in c:\\users\\asus\\anaconda3\\lib\\site-packages (from spyder) (2.0.0)\n",
      "Requirement already satisfied: qtconsole<5.3.0,>=5.2.1 in c:\\users\\asus\\anaconda3\\lib\\site-packages (from spyder) (5.2.2)\n",
      "Requirement already satisfied: qtpy>=1.5.0 in c:\\users\\asus\\anaconda3\\lib\\site-packages (from spyder) (2.2.0)\n",
      "Requirement already satisfied: pexpect>=4.4.0 in c:\\users\\asus\\anaconda3\\lib\\site-packages (from spyder) (4.8.0)\n",
      "Requirement already satisfied: rtree>=0.9.7 in c:\\users\\asus\\anaconda3\\lib\\site-packages (from spyder) (0.9.7)\n",
      "Requirement already satisfied: sphinx>=0.6.6 in c:\\users\\asus\\anaconda3\\lib\\site-packages (from spyder) (5.0.2)\n",
      "Requirement already satisfied: binaryornot>=0.4.4 in c:\\users\\asus\\anaconda3\\lib\\site-packages (from cookiecutter>=1.6.0->spyder) (0.4.4)\n",
      "Requirement already satisfied: python-slugify>=4.0.0 in c:\\users\\asus\\anaconda3\\lib\\site-packages (from cookiecutter>=1.6.0->spyder) (5.0.2)\n",
      "Requirement already satisfied: Jinja2<4.0.0,>=2.7 in c:\\users\\asus\\anaconda3\\lib\\site-packages (from cookiecutter>=1.6.0->spyder) (3.1.2)\n",
      "Requirement already satisfied: click>=7.0 in c:\\users\\asus\\anaconda3\\lib\\site-packages (from cookiecutter>=1.6.0->spyder) (8.0.4)\n",
      "Requirement already satisfied: poyo>=0.5.0 in c:\\users\\asus\\anaconda3\\lib\\site-packages (from cookiecutter>=1.6.0->spyder) (0.5.0)\n",
      "Requirement already satisfied: jinja2-time>=0.2.0 in c:\\users\\asus\\anaconda3\\lib\\site-packages (from cookiecutter>=1.6.0->spyder) (0.2.0)\n",
      "Requirement already satisfied: requests>=2.23.0 in c:\\users\\asus\\anaconda3\\lib\\site-packages (from cookiecutter>=1.6.0->spyder) (2.28.1)\n",
      "Requirement already satisfied: six>=1.10 in c:\\users\\asus\\anaconda3\\lib\\site-packages (from cookiecutter>=1.6.0->spyder) (1.16.0)\n",
      "Requirement already satisfied: sortedcontainers<3.0,>=2.0 in c:\\users\\asus\\anaconda3\\lib\\site-packages (from intervaltree>=3.0.2->spyder) (2.4.0)\n",
      "Requirement already satisfied: colorama in c:\\users\\asus\\anaconda3\\lib\\site-packages (from ipython<8.0.0,>=7.6.0->spyder) (0.4.5)\n",
      "Requirement already satisfied: traitlets>=4.2 in c:\\users\\asus\\anaconda3\\lib\\site-packages (from ipython<8.0.0,>=7.6.0->spyder) (5.1.1)\n",
      "Requirement already satisfied: backcall in c:\\users\\asus\\anaconda3\\lib\\site-packages (from ipython<8.0.0,>=7.6.0->spyder) (0.2.0)\n",
      "Requirement already satisfied: matplotlib-inline in c:\\users\\asus\\anaconda3\\lib\\site-packages (from ipython<8.0.0,>=7.6.0->spyder) (0.1.6)\n",
      "Requirement already satisfied: prompt-toolkit!=3.0.0,!=3.0.1,<3.1.0,>=2.0.0 in c:\\users\\asus\\anaconda3\\lib\\site-packages (from ipython<8.0.0,>=7.6.0->spyder) (3.0.20)\n",
      "Requirement already satisfied: decorator in c:\\users\\asus\\anaconda3\\lib\\site-packages (from ipython<8.0.0,>=7.6.0->spyder) (5.1.1)\n",
      "Requirement already satisfied: pyrsistent!=0.17.0,!=0.17.1,!=0.17.2,>=0.14.0 in c:\\users\\asus\\anaconda3\\lib\\site-packages (from jsonschema>=3.2.0->spyder) (0.18.0)\n",
      "Requirement already satisfied: attrs>=17.4.0 in c:\\users\\asus\\anaconda3\\lib\\site-packages (from jsonschema>=3.2.0->spyder) (21.4.0)\n",
      "Requirement already satisfied: pywin32-ctypes!=0.1.0,!=0.1.1 in c:\\users\\asus\\anaconda3\\lib\\site-packages (from keyring>=17.0.0->spyder) (0.2.0)\n",
      "Requirement already satisfied: importlib-metadata>=3.6 in c:\\users\\asus\\anaconda3\\lib\\site-packages (from keyring>=17.0.0->spyder) (4.11.3)\n",
      "Requirement already satisfied: markupsafe>=2.0 in c:\\users\\asus\\anaconda3\\lib\\site-packages (from nbconvert>=4.0->spyder) (2.0.1)\n",
      "Requirement already satisfied: jupyter-core>=4.7 in c:\\users\\asus\\anaconda3\\lib\\site-packages (from nbconvert>=4.0->spyder) (4.11.1)\n",
      "Requirement already satisfied: defusedxml in c:\\users\\asus\\anaconda3\\lib\\site-packages (from nbconvert>=4.0->spyder) (0.7.1)\n",
      "Requirement already satisfied: nbformat>=5.1 in c:\\users\\asus\\anaconda3\\lib\\site-packages (from nbconvert>=4.0->spyder) (5.5.0)\n",
      "Requirement already satisfied: pandocfilters>=1.4.1 in c:\\users\\asus\\anaconda3\\lib\\site-packages (from nbconvert>=4.0->spyder) (1.5.0)\n",
      "Requirement already satisfied: beautifulsoup4 in c:\\users\\asus\\anaconda3\\lib\\site-packages (from nbconvert>=4.0->spyder) (4.11.1)\n",
      "Requirement already satisfied: nbclient>=0.5.0 in c:\\users\\asus\\anaconda3\\lib\\site-packages (from nbconvert>=4.0->spyder) (0.5.13)\n",
      "Requirement already satisfied: packaging in c:\\users\\asus\\anaconda3\\lib\\site-packages (from nbconvert>=4.0->spyder) (21.3)\n",
      "Requirement already satisfied: mistune<3,>=2.0.3 in c:\\users\\asus\\anaconda3\\lib\\site-packages (from nbconvert>=4.0->spyder) (2.0.4)\n",
      "Requirement already satisfied: jupyterlab-pygments in c:\\users\\asus\\anaconda3\\lib\\site-packages (from nbconvert>=4.0->spyder) (0.1.2)\n",
      "Requirement already satisfied: tinycss2 in c:\\users\\asus\\anaconda3\\lib\\site-packages (from nbconvert>=4.0->spyder) (1.2.1)\n",
      "Requirement already satisfied: bleach in c:\\users\\asus\\anaconda3\\lib\\site-packages (from nbconvert>=4.0->spyder) (4.1.0)\n",
      "Requirement already satisfied: pynacl>=1.0.1 in c:\\users\\asus\\anaconda3\\lib\\site-packages (from paramiko>=2.4.0->spyder) (1.5.0)\n",
      "Requirement already satisfied: cryptography>=2.5 in c:\\users\\asus\\anaconda3\\lib\\site-packages (from paramiko>=2.4.0->spyder) (37.0.1)\n",
      "Requirement already satisfied: bcrypt>=3.1.3 in c:\\users\\asus\\anaconda3\\lib\\site-packages (from paramiko>=2.4.0->spyder) (3.2.0)\n",
      "Requirement already satisfied: ptyprocess>=0.5 in c:\\users\\asus\\anaconda3\\lib\\site-packages (from pexpect>=4.4.0->spyder) (0.7.0)\n",
      "Requirement already satisfied: tomlkit>=0.10.1 in c:\\users\\asus\\anaconda3\\lib\\site-packages (from pylint>=2.5.0->spyder) (0.11.1)\n",
      "Requirement already satisfied: typing-extensions>=3.10.0 in c:\\users\\asus\\anaconda3\\lib\\site-packages (from pylint>=2.5.0->spyder) (4.3.0)\n",
      "Requirement already satisfied: mccabe<0.8,>=0.6 in c:\\users\\asus\\anaconda3\\lib\\site-packages (from pylint>=2.5.0->spyder) (0.6.1)\n",
      "Requirement already satisfied: dill>=0.2 in c:\\users\\asus\\anaconda3\\lib\\site-packages (from pylint>=2.5.0->spyder) (0.3.5.1)\n",
      "Requirement already satisfied: isort<6,>=4.2.5 in c:\\users\\asus\\anaconda3\\lib\\site-packages (from pylint>=2.5.0->spyder) (5.9.3)\n",
      "Requirement already satisfied: astroid<=2.12.0-dev0,>=2.11.6 in c:\\users\\asus\\anaconda3\\lib\\site-packages (from pylint>=2.5.0->spyder) (2.11.7)\n",
      "Requirement already satisfied: tomli>=1.1.0 in c:\\users\\asus\\anaconda3\\lib\\site-packages (from pylint>=2.5.0->spyder) (2.0.1)\n",
      "Requirement already satisfied: platformdirs>=2.2.0 in c:\\users\\asus\\anaconda3\\lib\\site-packages (from pylint>=2.5.0->spyder) (2.5.2)\n",
      "Requirement already satisfied: PyQt5_sip<13,>=4.19.14 in c:\\users\\asus\\anaconda3\\lib\\site-packages (from pyqt5<5.13->spyder) (12.11.0)\n",
      "Requirement already satisfied: black>=19.3b0 in c:\\users\\asus\\anaconda3\\lib\\site-packages (from python-lsp-black>=1.0.0->spyder) (22.6.0)\n",
      "Requirement already satisfied: toml in c:\\users\\asus\\anaconda3\\lib\\site-packages (from python-lsp-black>=1.0.0->spyder) (0.10.2)\n",
      "Requirement already satisfied: python-lsp-jsonrpc>=1.0.0 in c:\\users\\asus\\anaconda3\\lib\\site-packages (from python-lsp-server[all]<1.4.0,>=1.3.2->spyder) (1.0.0)\n",
      "Requirement already satisfied: ujson>=3.0.0 in c:\\users\\asus\\anaconda3\\lib\\site-packages (from python-lsp-server[all]<1.4.0,>=1.3.2->spyder) (5.4.0)\n",
      "Requirement already satisfied: pluggy in c:\\users\\asus\\anaconda3\\lib\\site-packages (from python-lsp-server[all]<1.4.0,>=1.3.2->spyder) (1.0.0)\n",
      "Requirement already satisfied: yapf in c:\\users\\asus\\anaconda3\\lib\\site-packages (from python-lsp-server[all]<1.4.0,>=1.3.2->spyder) (0.31.0)\n",
      "Requirement already satisfied: pycodestyle<2.9.0,>=2.8.0 in c:\\users\\asus\\anaconda3\\lib\\site-packages (from python-lsp-server[all]<1.4.0,>=1.3.2->spyder) (2.8.0)\n",
      "Requirement already satisfied: pydocstyle>=2.0.0 in c:\\users\\asus\\anaconda3\\lib\\site-packages (from python-lsp-server[all]<1.4.0,>=1.3.2->spyder) (6.1.1)\n",
      "Requirement already satisfied: flake8<4.1.0,>=4.0.0 in c:\\users\\asus\\anaconda3\\lib\\site-packages (from python-lsp-server[all]<1.4.0,>=1.3.2->spyder) (4.0.1)\n",
      "Requirement already satisfied: autopep8<1.7.0,>=1.6.0 in c:\\users\\asus\\anaconda3\\lib\\site-packages (from python-lsp-server[all]<1.4.0,>=1.3.2->spyder) (1.6.0)\n",
      "Requirement already satisfied: rope>=0.10.5 in c:\\users\\asus\\anaconda3\\lib\\site-packages (from python-lsp-server[all]<1.4.0,>=1.3.2->spyder) (0.22.0)\n",
      "Requirement already satisfied: pyflakes<2.5.0,>=2.4.0 in c:\\users\\asus\\anaconda3\\lib\\site-packages (from python-lsp-server[all]<1.4.0,>=1.3.2->spyder) (2.4.0)\n",
      "Requirement already satisfied: tinycss<1,>=0.4 in c:\\users\\asus\\anaconda3\\lib\\site-packages (from qstylizer>=0.1.10->spyder) (0.4)\n",
      "Requirement already satisfied: inflection<1,>0.3.0 in c:\\users\\asus\\anaconda3\\lib\\site-packages (from qstylizer>=0.1.10->spyder) (0.5.1)\n",
      "Requirement already satisfied: ipython-genutils in c:\\users\\asus\\anaconda3\\lib\\site-packages (from qtconsole<5.3.0,>=5.2.1->spyder) (0.2.0)\n",
      "Requirement already satisfied: ipykernel>=4.1 in c:\\users\\asus\\anaconda3\\lib\\site-packages (from qtconsole<5.3.0,>=5.2.1->spyder) (6.15.2)\n",
      "Requirement already satisfied: jupyter-client>=4.1 in c:\\users\\asus\\anaconda3\\lib\\site-packages (from qtconsole<5.3.0,>=5.2.1->spyder) (7.3.4)\n",
      "Requirement already satisfied: sphinxcontrib-jsmath in c:\\users\\asus\\anaconda3\\lib\\site-packages (from sphinx>=0.6.6->spyder) (1.0.1)\n",
      "Requirement already satisfied: docutils<0.19,>=0.14 in c:\\users\\asus\\anaconda3\\lib\\site-packages (from sphinx>=0.6.6->spyder) (0.18.1)\n",
      "Requirement already satisfied: imagesize in c:\\users\\asus\\anaconda3\\lib\\site-packages (from sphinx>=0.6.6->spyder) (1.4.1)\n",
      "Requirement already satisfied: sphinxcontrib-qthelp in c:\\users\\asus\\anaconda3\\lib\\site-packages (from sphinx>=0.6.6->spyder) (1.0.3)\n",
      "Requirement already satisfied: snowballstemmer>=1.1 in c:\\users\\asus\\anaconda3\\lib\\site-packages (from sphinx>=0.6.6->spyder) (2.2.0)\n",
      "Requirement already satisfied: sphinxcontrib-devhelp in c:\\users\\asus\\anaconda3\\lib\\site-packages (from sphinx>=0.6.6->spyder) (1.0.2)\n",
      "Requirement already satisfied: sphinxcontrib-serializinghtml>=1.1.5 in c:\\users\\asus\\anaconda3\\lib\\site-packages (from sphinx>=0.6.6->spyder) (1.1.5)\n",
      "Requirement already satisfied: sphinxcontrib-htmlhelp>=2.0.0 in c:\\users\\asus\\anaconda3\\lib\\site-packages (from sphinx>=0.6.6->spyder) (2.0.0)\n",
      "Requirement already satisfied: babel>=1.3 in c:\\users\\asus\\anaconda3\\lib\\site-packages (from sphinx>=0.6.6->spyder) (2.9.1)\n",
      "Requirement already satisfied: sphinxcontrib-applehelp in c:\\users\\asus\\anaconda3\\lib\\site-packages (from sphinx>=0.6.6->spyder) (1.0.2)\n",
      "Requirement already satisfied: alabaster<0.8,>=0.7 in c:\\users\\asus\\anaconda3\\lib\\site-packages (from sphinx>=0.6.6->spyder) (0.7.12)\n",
      "Requirement already satisfied: wrapt<2,>=1.11 in c:\\users\\asus\\anaconda3\\lib\\site-packages (from astroid<=2.12.0-dev0,>=2.11.6->pylint>=2.5.0->spyder) (1.14.1)\n",
      "Requirement already satisfied: lazy-object-proxy>=1.4.0 in c:\\users\\asus\\anaconda3\\lib\\site-packages (from astroid<=2.12.0-dev0,>=2.11.6->pylint>=2.5.0->spyder) (1.6.0)\n",
      "Requirement already satisfied: pytz>=2015.7 in c:\\users\\asus\\anaconda3\\lib\\site-packages (from babel>=1.3->sphinx>=0.6.6->spyder) (2022.1)\n",
      "Requirement already satisfied: cffi>=1.1 in c:\\users\\asus\\anaconda3\\lib\\site-packages (from bcrypt>=3.1.3->paramiko>=2.4.0->spyder) (1.15.1)\n",
      "Requirement already satisfied: mypy-extensions>=0.4.3 in c:\\users\\asus\\anaconda3\\lib\\site-packages (from black>=19.3b0->python-lsp-black>=1.0.0->spyder) (0.4.3)\n",
      "Requirement already satisfied: pathspec>=0.9.0 in c:\\users\\asus\\anaconda3\\lib\\site-packages (from black>=19.3b0->python-lsp-black>=1.0.0->spyder) (0.9.0)\n",
      "Requirement already satisfied: zipp>=0.5 in c:\\users\\asus\\anaconda3\\lib\\site-packages (from importlib-metadata>=3.6->keyring>=17.0.0->spyder) (3.8.0)\n",
      "Requirement already satisfied: nest-asyncio in c:\\users\\asus\\anaconda3\\lib\\site-packages (from ipykernel>=4.1->qtconsole<5.3.0,>=5.2.1->spyder) (1.5.5)\n",
      "Requirement already satisfied: debugpy>=1.0 in c:\\users\\asus\\anaconda3\\lib\\site-packages (from ipykernel>=4.1->qtconsole<5.3.0,>=5.2.1->spyder) (1.5.1)\n",
      "Requirement already satisfied: tornado>=6.1 in c:\\users\\asus\\anaconda3\\lib\\site-packages (from ipykernel>=4.1->qtconsole<5.3.0,>=5.2.1->spyder) (6.1)\n",
      "Requirement already satisfied: arrow in c:\\users\\asus\\anaconda3\\lib\\site-packages (from jinja2-time>=0.2.0->cookiecutter>=1.6.0->spyder) (1.2.2)\n",
      "Requirement already satisfied: python-dateutil>=2.8.2 in c:\\users\\asus\\anaconda3\\lib\\site-packages (from jupyter-client>=4.1->qtconsole<5.3.0,>=5.2.1->spyder) (2.8.2)\n",
      "Requirement already satisfied: entrypoints in c:\\users\\asus\\anaconda3\\lib\\site-packages (from jupyter-client>=4.1->qtconsole<5.3.0,>=5.2.1->spyder) (0.4)\n",
      "Requirement already satisfied: pywin32>=1.0 in c:\\users\\asus\\anaconda3\\lib\\site-packages (from jupyter-core>=4.7->nbconvert>=4.0->spyder) (302)\n",
      "Requirement already satisfied: fastjsonschema in c:\\users\\asus\\anaconda3\\lib\\site-packages (from nbformat>=5.1->nbconvert>=4.0->spyder) (2.16.2)\n",
      "Requirement already satisfied: wcwidth in c:\\users\\asus\\anaconda3\\lib\\site-packages (from prompt-toolkit!=3.0.0,!=3.0.1,<3.1.0,>=2.0.0->ipython<8.0.0,>=7.6.0->spyder) (0.2.5)\n",
      "Requirement already satisfied: text-unidecode>=1.3 in c:\\users\\asus\\anaconda3\\lib\\site-packages (from python-slugify>=4.0.0->cookiecutter>=1.6.0->spyder) (1.3)\n",
      "Requirement already satisfied: urllib3<1.27,>=1.21.1 in c:\\users\\asus\\anaconda3\\lib\\site-packages (from requests>=2.23.0->cookiecutter>=1.6.0->spyder) (1.26.11)\n",
      "Requirement already satisfied: charset-normalizer<3,>=2 in c:\\users\\asus\\anaconda3\\lib\\site-packages (from requests>=2.23.0->cookiecutter>=1.6.0->spyder) (2.0.4)\n",
      "Requirement already satisfied: certifi>=2017.4.17 in c:\\users\\asus\\anaconda3\\lib\\site-packages (from requests>=2.23.0->cookiecutter>=1.6.0->spyder) (2022.9.14)\n",
      "Requirement already satisfied: idna<4,>=2.5 in c:\\users\\asus\\anaconda3\\lib\\site-packages (from requests>=2.23.0->cookiecutter>=1.6.0->spyder) (3.3)\n",
      "Requirement already satisfied: soupsieve>1.2 in c:\\users\\asus\\anaconda3\\lib\\site-packages (from beautifulsoup4->nbconvert>=4.0->spyder) (2.3.1)\n",
      "Requirement already satisfied: webencodings in c:\\users\\asus\\anaconda3\\lib\\site-packages (from bleach->nbconvert>=4.0->spyder) (0.5.1)\n",
      "Requirement already satisfied: pyparsing!=3.0.5,>=2.0.2 in c:\\users\\asus\\anaconda3\\lib\\site-packages (from packaging->nbconvert>=4.0->spyder) (3.0.9)\n",
      "Requirement already satisfied: pycparser in c:\\users\\asus\\anaconda3\\lib\\site-packages (from cffi>=1.1->bcrypt>=3.1.3->paramiko>=2.4.0->spyder) (2.21)\n"
     ]
    }
   ],
   "source": [
    "!pip install spyder"
   ]
  },
  {
   "cell_type": "code",
   "execution_count": 4,
   "metadata": {},
   "outputs": [
    {
     "name": "stdout",
     "output_type": "stream",
     "text": [
      "Requirement already satisfied: anaconda-project in c:\\users\\asus\\anaconda3\\lib\\site-packages (0.11.1)\n",
      "Requirement already satisfied: anaconda-client in c:\\users\\asus\\anaconda3\\lib\\site-packages (from anaconda-project) (1.11.0)\n",
      "Requirement already satisfied: conda-pack in c:\\users\\asus\\anaconda3\\lib\\site-packages (from anaconda-project) (0.6.0)\n",
      "Requirement already satisfied: tornado>=4.2 in c:\\users\\asus\\anaconda3\\lib\\site-packages (from anaconda-project) (6.1)\n",
      "Requirement already satisfied: requests in c:\\users\\asus\\anaconda3\\lib\\site-packages (from anaconda-project) (2.28.1)\n",
      "Requirement already satisfied: jinja2 in c:\\users\\asus\\anaconda3\\lib\\site-packages (from anaconda-project) (3.1.2)\n",
      "Requirement already satisfied: ruamel-yaml in c:\\users\\asus\\anaconda3\\lib\\site-packages (from anaconda-project) (0.17.21)\n",
      "Requirement already satisfied: tqdm in c:\\users\\asus\\anaconda3\\lib\\site-packages (from anaconda-project) (4.64.1)\n",
      "Requirement already satisfied: clyent>=1.2.0 in c:\\users\\asus\\anaconda3\\lib\\site-packages (from anaconda-client->anaconda-project) (1.2.2)\n",
      "Requirement already satisfied: conda-package-handling>=1.7.3 in c:\\users\\asus\\anaconda3\\lib\\site-packages (from anaconda-client->anaconda-project) (1.9.0)\n",
      "Requirement already satisfied: nbformat>=4.4.0 in c:\\users\\asus\\anaconda3\\lib\\site-packages (from anaconda-client->anaconda-project) (5.5.0)\n",
      "Requirement already satisfied: python-dateutil>=2.6.1 in c:\\users\\asus\\anaconda3\\lib\\site-packages (from anaconda-client->anaconda-project) (2.8.2)\n",
      "Requirement already satisfied: PyYAML>=3.12 in c:\\users\\asus\\anaconda3\\lib\\site-packages (from anaconda-client->anaconda-project) (6.0)\n",
      "Requirement already satisfied: pytz in c:\\users\\asus\\anaconda3\\lib\\site-packages (from anaconda-client->anaconda-project) (2022.1)\n",
      "Requirement already satisfied: setuptools>=58.0.4 in c:\\users\\asus\\anaconda3\\lib\\site-packages (from anaconda-client->anaconda-project) (63.4.1)\n",
      "Requirement already satisfied: six>=1.15.0 in c:\\users\\asus\\anaconda3\\lib\\site-packages (from anaconda-client->anaconda-project) (1.16.0)\n",
      "Requirement already satisfied: urllib3>=1.26.4 in c:\\users\\asus\\anaconda3\\lib\\site-packages (from anaconda-client->anaconda-project) (1.26.11)\n",
      "Requirement already satisfied: idna<4,>=2.5 in c:\\users\\asus\\anaconda3\\lib\\site-packages (from requests->anaconda-project) (3.3)\n",
      "Requirement already satisfied: charset-normalizer<3,>=2 in c:\\users\\asus\\anaconda3\\lib\\site-packages (from requests->anaconda-project) (2.0.4)\n",
      "Requirement already satisfied: certifi>=2017.4.17 in c:\\users\\asus\\anaconda3\\lib\\site-packages (from requests->anaconda-project) (2022.9.14)\n",
      "Requirement already satisfied: colorama in c:\\users\\asus\\anaconda3\\lib\\site-packages (from tqdm->anaconda-project) (0.4.5)\n",
      "Requirement already satisfied: MarkupSafe>=2.0 in c:\\users\\asus\\anaconda3\\lib\\site-packages (from jinja2->anaconda-project) (2.0.1)\n",
      "Requirement already satisfied: ruamel.yaml.clib>=0.2.6 in c:\\users\\asus\\anaconda3\\lib\\site-packages (from ruamel-yaml->anaconda-project) (0.2.7)\n",
      "Requirement already satisfied: jsonschema>=2.6 in c:\\users\\asus\\anaconda3\\lib\\site-packages (from nbformat>=4.4.0->anaconda-client->anaconda-project) (4.16.0)\n",
      "Requirement already satisfied: jupyter_core in c:\\users\\asus\\anaconda3\\lib\\site-packages (from nbformat>=4.4.0->anaconda-client->anaconda-project) (4.11.1)\n",
      "Requirement already satisfied: fastjsonschema in c:\\users\\asus\\anaconda3\\lib\\site-packages (from nbformat>=4.4.0->anaconda-client->anaconda-project) (2.16.2)\n",
      "Requirement already satisfied: traitlets>=5.1 in c:\\users\\asus\\anaconda3\\lib\\site-packages (from nbformat>=4.4.0->anaconda-client->anaconda-project) (5.1.1)\n",
      "Requirement already satisfied: attrs>=17.4.0 in c:\\users\\asus\\anaconda3\\lib\\site-packages (from jsonschema>=2.6->nbformat>=4.4.0->anaconda-client->anaconda-project) (21.4.0)\n",
      "Requirement already satisfied: pyrsistent!=0.17.0,!=0.17.1,!=0.17.2,>=0.14.0 in c:\\users\\asus\\anaconda3\\lib\\site-packages (from jsonschema>=2.6->nbformat>=4.4.0->anaconda-client->anaconda-project) (0.18.0)\n",
      "Requirement already satisfied: pywin32>=1.0 in c:\\users\\asus\\anaconda3\\lib\\site-packages (from jupyter_core->nbformat>=4.4.0->anaconda-client->anaconda-project) (302)\n"
     ]
    }
   ],
   "source": [
    "!pip install anaconda-project"
   ]
  },
  {
   "cell_type": "code",
   "execution_count": 5,
   "metadata": {},
   "outputs": [
    {
     "name": "stdout",
     "output_type": "stream",
     "text": [
      "Requirement already satisfied: fastbook in c:\\users\\asus\\anaconda3\\lib\\site-packages (0.0.29)\n",
      "Requirement already satisfied: pandas in c:\\users\\asus\\anaconda3\\lib\\site-packages (from fastbook) (1.4.4)\n",
      "Requirement already satisfied: pip in c:\\users\\asus\\anaconda3\\lib\\site-packages (from fastbook) (22.2.2)\n",
      "Requirement already satisfied: fastai>=2.6 in c:\\users\\asus\\anaconda3\\lib\\site-packages (from fastbook) (2.7.10)\n",
      "Requirement already satisfied: transformers in c:\\users\\asus\\anaconda3\\lib\\site-packages (from fastbook) (4.24.0)\n",
      "Requirement already satisfied: sentencepiece in c:\\users\\asus\\anaconda3\\lib\\site-packages (from fastbook) (0.1.97)\n",
      "Requirement already satisfied: graphviz in c:\\users\\asus\\anaconda3\\lib\\site-packages (from fastbook) (0.20.1)\n",
      "Requirement already satisfied: packaging in c:\\users\\asus\\anaconda3\\lib\\site-packages (from fastbook) (21.3)\n",
      "Requirement already satisfied: requests in c:\\users\\asus\\anaconda3\\lib\\site-packages (from fastbook) (2.28.1)\n",
      "Requirement already satisfied: datasets in c:\\users\\asus\\anaconda3\\lib\\site-packages (from fastbook) (2.6.1)\n",
      "Requirement already satisfied: ipywidgets<8 in c:\\users\\asus\\anaconda3\\lib\\site-packages (from fastbook) (7.6.5)\n",
      "Requirement already satisfied: pyyaml in c:\\users\\asus\\anaconda3\\lib\\site-packages (from fastai>=2.6->fastbook) (6.0)\n",
      "Requirement already satisfied: fastprogress>=0.2.4 in c:\\users\\asus\\anaconda3\\lib\\site-packages (from fastai>=2.6->fastbook) (1.0.3)\n",
      "Requirement already satisfied: pillow>6.0.0 in c:\\users\\asus\\anaconda3\\lib\\site-packages (from fastai>=2.6->fastbook) (9.2.0)\n",
      "Requirement already satisfied: scikit-learn in c:\\users\\asus\\anaconda3\\lib\\site-packages (from fastai>=2.6->fastbook) (1.0.2)\n",
      "Requirement already satisfied: torch<1.14,>=1.7 in c:\\users\\asus\\anaconda3\\lib\\site-packages (from fastai>=2.6->fastbook) (1.13.0)\n",
      "Requirement already satisfied: matplotlib in c:\\users\\asus\\anaconda3\\lib\\site-packages (from fastai>=2.6->fastbook) (3.5.2)\n",
      "Requirement already satisfied: torchvision>=0.8.2 in c:\\users\\asus\\anaconda3\\lib\\site-packages (from fastai>=2.6->fastbook) (0.14.0)\n",
      "Requirement already satisfied: fastdownload<2,>=0.0.5 in c:\\users\\asus\\anaconda3\\lib\\site-packages (from fastai>=2.6->fastbook) (0.0.7)\n",
      "Requirement already satisfied: scipy in c:\\users\\asus\\anaconda3\\lib\\site-packages (from fastai>=2.6->fastbook) (1.9.1)\n",
      "Requirement already satisfied: spacy<4 in c:\\users\\asus\\anaconda3\\lib\\site-packages (from fastai>=2.6->fastbook) (3.4.2)\n",
      "Requirement already satisfied: fastcore<1.6,>=1.4.5 in c:\\users\\asus\\anaconda3\\lib\\site-packages (from fastai>=2.6->fastbook) (1.5.27)\n",
      "Requirement already satisfied: ipykernel>=4.5.1 in c:\\users\\asus\\anaconda3\\lib\\site-packages (from ipywidgets<8->fastbook) (6.15.2)\n",
      "Requirement already satisfied: traitlets>=4.3.1 in c:\\users\\asus\\anaconda3\\lib\\site-packages (from ipywidgets<8->fastbook) (5.1.1)\n",
      "Requirement already satisfied: ipython-genutils~=0.2.0 in c:\\users\\asus\\anaconda3\\lib\\site-packages (from ipywidgets<8->fastbook) (0.2.0)\n",
      "Requirement already satisfied: widgetsnbextension~=3.5.0 in c:\\users\\asus\\anaconda3\\lib\\site-packages (from ipywidgets<8->fastbook) (3.5.2)\n",
      "Requirement already satisfied: nbformat>=4.2.0 in c:\\users\\asus\\anaconda3\\lib\\site-packages (from ipywidgets<8->fastbook) (5.5.0)\n",
      "Requirement already satisfied: jupyterlab-widgets>=1.0.0 in c:\\users\\asus\\anaconda3\\lib\\site-packages (from ipywidgets<8->fastbook) (1.0.0)\n",
      "Requirement already satisfied: ipython>=4.0.0 in c:\\users\\asus\\anaconda3\\lib\\site-packages (from ipywidgets<8->fastbook) (7.31.1)\n",
      "Requirement already satisfied: tqdm>=4.62.1 in c:\\users\\asus\\anaconda3\\lib\\site-packages (from datasets->fastbook) (4.64.1)\n",
      "Requirement already satisfied: xxhash in c:\\users\\asus\\anaconda3\\lib\\site-packages (from datasets->fastbook) (3.1.0)\n",
      "Requirement already satisfied: fsspec[http]>=2021.11.1 in c:\\users\\asus\\anaconda3\\lib\\site-packages (from datasets->fastbook) (2022.7.1)\n",
      "Requirement already satisfied: huggingface-hub<1.0.0,>=0.2.0 in c:\\users\\asus\\anaconda3\\lib\\site-packages (from datasets->fastbook) (0.10.1)\n",
      "Requirement already satisfied: multiprocess in c:\\users\\asus\\anaconda3\\lib\\site-packages (from datasets->fastbook) (0.70.13)\n",
      "Requirement already satisfied: pyarrow>=6.0.0 in c:\\users\\asus\\anaconda3\\lib\\site-packages (from datasets->fastbook) (10.0.0)\n",
      "Requirement already satisfied: dill<0.3.6 in c:\\users\\asus\\anaconda3\\lib\\site-packages (from datasets->fastbook) (0.3.5.1)\n",
      "Requirement already satisfied: responses<0.19 in c:\\users\\asus\\anaconda3\\lib\\site-packages (from datasets->fastbook) (0.18.0)\n",
      "Requirement already satisfied: numpy>=1.17 in c:\\users\\asus\\anaconda3\\lib\\site-packages (from datasets->fastbook) (1.21.5)\n",
      "Requirement already satisfied: aiohttp in c:\\users\\asus\\anaconda3\\lib\\site-packages (from datasets->fastbook) (3.8.3)\n",
      "Requirement already satisfied: certifi>=2017.4.17 in c:\\users\\asus\\anaconda3\\lib\\site-packages (from requests->fastbook) (2022.9.14)\n",
      "Requirement already satisfied: charset-normalizer<3,>=2 in c:\\users\\asus\\anaconda3\\lib\\site-packages (from requests->fastbook) (2.0.4)\n",
      "Requirement already satisfied: urllib3<1.27,>=1.21.1 in c:\\users\\asus\\anaconda3\\lib\\site-packages (from requests->fastbook) (1.26.11)\n",
      "Requirement already satisfied: idna<4,>=2.5 in c:\\users\\asus\\anaconda3\\lib\\site-packages (from requests->fastbook) (3.3)\n",
      "Requirement already satisfied: pyparsing!=3.0.5,>=2.0.2 in c:\\users\\asus\\anaconda3\\lib\\site-packages (from packaging->fastbook) (3.0.9)\n",
      "Requirement already satisfied: pytz>=2020.1 in c:\\users\\asus\\anaconda3\\lib\\site-packages (from pandas->fastbook) (2022.1)\n",
      "Requirement already satisfied: python-dateutil>=2.8.1 in c:\\users\\asus\\anaconda3\\lib\\site-packages (from pandas->fastbook) (2.8.2)\n",
      "Requirement already satisfied: filelock in c:\\users\\asus\\anaconda3\\lib\\site-packages (from transformers->fastbook) (3.6.0)\n",
      "Requirement already satisfied: regex!=2019.12.17 in c:\\users\\asus\\anaconda3\\lib\\site-packages (from transformers->fastbook) (2022.7.9)\n",
      "Requirement already satisfied: tokenizers!=0.11.3,<0.14,>=0.11.1 in c:\\users\\asus\\anaconda3\\lib\\site-packages (from transformers->fastbook) (0.13.2)\n",
      "Requirement already satisfied: typing-extensions>=3.7.4.3 in c:\\users\\asus\\anaconda3\\lib\\site-packages (from huggingface-hub<1.0.0,>=0.2.0->datasets->fastbook) (4.3.0)\n",
      "Requirement already satisfied: matplotlib-inline>=0.1 in c:\\users\\asus\\anaconda3\\lib\\site-packages (from ipykernel>=4.5.1->ipywidgets<8->fastbook) (0.1.6)\n",
      "Requirement already satisfied: tornado>=6.1 in c:\\users\\asus\\anaconda3\\lib\\site-packages (from ipykernel>=4.5.1->ipywidgets<8->fastbook) (6.1)\n",
      "Requirement already satisfied: psutil in c:\\users\\asus\\anaconda3\\lib\\site-packages (from ipykernel>=4.5.1->ipywidgets<8->fastbook) (5.9.0)\n",
      "Requirement already satisfied: nest-asyncio in c:\\users\\asus\\anaconda3\\lib\\site-packages (from ipykernel>=4.5.1->ipywidgets<8->fastbook) (1.5.5)\n",
      "Requirement already satisfied: pyzmq>=17 in c:\\users\\asus\\anaconda3\\lib\\site-packages (from ipykernel>=4.5.1->ipywidgets<8->fastbook) (23.2.0)\n",
      "Requirement already satisfied: debugpy>=1.0 in c:\\users\\asus\\anaconda3\\lib\\site-packages (from ipykernel>=4.5.1->ipywidgets<8->fastbook) (1.5.1)\n",
      "Requirement already satisfied: jupyter-client>=6.1.12 in c:\\users\\asus\\anaconda3\\lib\\site-packages (from ipykernel>=4.5.1->ipywidgets<8->fastbook) (7.3.4)\n",
      "Requirement already satisfied: decorator in c:\\users\\asus\\anaconda3\\lib\\site-packages (from ipython>=4.0.0->ipywidgets<8->fastbook) (5.1.1)\n",
      "Requirement already satisfied: pickleshare in c:\\users\\asus\\anaconda3\\lib\\site-packages (from ipython>=4.0.0->ipywidgets<8->fastbook) (0.7.5)\n",
      "Requirement already satisfied: backcall in c:\\users\\asus\\anaconda3\\lib\\site-packages (from ipython>=4.0.0->ipywidgets<8->fastbook) (0.2.0)\n",
      "Requirement already satisfied: setuptools>=18.5 in c:\\users\\asus\\anaconda3\\lib\\site-packages (from ipython>=4.0.0->ipywidgets<8->fastbook) (63.4.1)\n",
      "Requirement already satisfied: jedi>=0.16 in c:\\users\\asus\\anaconda3\\lib\\site-packages (from ipython>=4.0.0->ipywidgets<8->fastbook) (0.18.1)\n",
      "Requirement already satisfied: pygments in c:\\users\\asus\\anaconda3\\lib\\site-packages (from ipython>=4.0.0->ipywidgets<8->fastbook) (2.11.2)\n",
      "Requirement already satisfied: colorama in c:\\users\\asus\\anaconda3\\lib\\site-packages (from ipython>=4.0.0->ipywidgets<8->fastbook) (0.4.5)\n",
      "Requirement already satisfied: prompt-toolkit!=3.0.0,!=3.0.1,<3.1.0,>=2.0.0 in c:\\users\\asus\\anaconda3\\lib\\site-packages (from ipython>=4.0.0->ipywidgets<8->fastbook) (3.0.20)\n",
      "Requirement already satisfied: fastjsonschema in c:\\users\\asus\\anaconda3\\lib\\site-packages (from nbformat>=4.2.0->ipywidgets<8->fastbook) (2.16.2)\n",
      "Requirement already satisfied: jupyter_core in c:\\users\\asus\\anaconda3\\lib\\site-packages (from nbformat>=4.2.0->ipywidgets<8->fastbook) (4.11.1)\n",
      "Requirement already satisfied: jsonschema>=2.6 in c:\\users\\asus\\anaconda3\\lib\\site-packages (from nbformat>=4.2.0->ipywidgets<8->fastbook) (4.16.0)\n",
      "Requirement already satisfied: six>=1.5 in c:\\users\\asus\\anaconda3\\lib\\site-packages (from python-dateutil>=2.8.1->pandas->fastbook) (1.16.0)\n",
      "Requirement already satisfied: murmurhash<1.1.0,>=0.28.0 in c:\\users\\asus\\anaconda3\\lib\\site-packages (from spacy<4->fastai>=2.6->fastbook) (1.0.9)\n",
      "Requirement already satisfied: langcodes<4.0.0,>=3.2.0 in c:\\users\\asus\\anaconda3\\lib\\site-packages (from spacy<4->fastai>=2.6->fastbook) (3.3.0)\n",
      "Requirement already satisfied: catalogue<2.1.0,>=2.0.6 in c:\\users\\asus\\anaconda3\\lib\\site-packages (from spacy<4->fastai>=2.6->fastbook) (2.0.8)\n",
      "Requirement already satisfied: spacy-legacy<3.1.0,>=3.0.10 in c:\\users\\asus\\anaconda3\\lib\\site-packages (from spacy<4->fastai>=2.6->fastbook) (3.0.10)\n",
      "Requirement already satisfied: thinc<8.2.0,>=8.1.0 in c:\\users\\asus\\anaconda3\\lib\\site-packages (from spacy<4->fastai>=2.6->fastbook) (8.1.5)\n",
      "Requirement already satisfied: pydantic!=1.8,!=1.8.1,<1.11.0,>=1.7.4 in c:\\users\\asus\\anaconda3\\lib\\site-packages (from spacy<4->fastai>=2.6->fastbook) (1.10.2)\n",
      "Requirement already satisfied: pathy>=0.3.5 in c:\\users\\asus\\anaconda3\\lib\\site-packages (from spacy<4->fastai>=2.6->fastbook) (0.6.2)\n",
      "Requirement already satisfied: srsly<3.0.0,>=2.4.3 in c:\\users\\asus\\anaconda3\\lib\\site-packages (from spacy<4->fastai>=2.6->fastbook) (2.4.5)\n",
      "Requirement already satisfied: wasabi<1.1.0,>=0.9.1 in c:\\users\\asus\\anaconda3\\lib\\site-packages (from spacy<4->fastai>=2.6->fastbook) (0.10.1)\n",
      "Requirement already satisfied: cymem<2.1.0,>=2.0.2 in c:\\users\\asus\\anaconda3\\lib\\site-packages (from spacy<4->fastai>=2.6->fastbook) (2.0.7)\n",
      "Requirement already satisfied: jinja2 in c:\\users\\asus\\anaconda3\\lib\\site-packages (from spacy<4->fastai>=2.6->fastbook) (3.1.2)\n",
      "Requirement already satisfied: preshed<3.1.0,>=3.0.2 in c:\\users\\asus\\anaconda3\\lib\\site-packages (from spacy<4->fastai>=2.6->fastbook) (3.0.8)\n",
      "Requirement already satisfied: typer<0.5.0,>=0.3.0 in c:\\users\\asus\\anaconda3\\lib\\site-packages (from spacy<4->fastai>=2.6->fastbook) (0.4.2)\n",
      "Requirement already satisfied: spacy-loggers<2.0.0,>=1.0.0 in c:\\users\\asus\\anaconda3\\lib\\site-packages (from spacy<4->fastai>=2.6->fastbook) (1.0.3)\n",
      "Requirement already satisfied: notebook>=4.4.1 in c:\\users\\asus\\anaconda3\\lib\\site-packages (from widgetsnbextension~=3.5.0->ipywidgets<8->fastbook) (6.4.12)\n",
      "Requirement already satisfied: multidict<7.0,>=4.5 in c:\\users\\asus\\anaconda3\\lib\\site-packages (from aiohttp->datasets->fastbook) (6.0.2)\n",
      "Requirement already satisfied: async-timeout<5.0,>=4.0.0a3 in c:\\users\\asus\\anaconda3\\lib\\site-packages (from aiohttp->datasets->fastbook) (4.0.2)\n",
      "Requirement already satisfied: frozenlist>=1.1.1 in c:\\users\\asus\\anaconda3\\lib\\site-packages (from aiohttp->datasets->fastbook) (1.3.3)\n",
      "Requirement already satisfied: aiosignal>=1.1.2 in c:\\users\\asus\\anaconda3\\lib\\site-packages (from aiohttp->datasets->fastbook) (1.3.1)\n",
      "Requirement already satisfied: attrs>=17.3.0 in c:\\users\\asus\\anaconda3\\lib\\site-packages (from aiohttp->datasets->fastbook) (21.4.0)\n",
      "Requirement already satisfied: yarl<2.0,>=1.0 in c:\\users\\asus\\anaconda3\\lib\\site-packages (from aiohttp->datasets->fastbook) (1.8.1)\n",
      "Requirement already satisfied: cycler>=0.10 in c:\\users\\asus\\anaconda3\\lib\\site-packages (from matplotlib->fastai>=2.6->fastbook) (0.11.0)\n",
      "Requirement already satisfied: fonttools>=4.22.0 in c:\\users\\asus\\anaconda3\\lib\\site-packages (from matplotlib->fastai>=2.6->fastbook) (4.25.0)\n",
      "Requirement already satisfied: kiwisolver>=1.0.1 in c:\\users\\asus\\anaconda3\\lib\\site-packages (from matplotlib->fastai>=2.6->fastbook) (1.4.2)\n",
      "Requirement already satisfied: joblib>=0.11 in c:\\users\\asus\\anaconda3\\lib\\site-packages (from scikit-learn->fastai>=2.6->fastbook) (1.1.0)\n",
      "Requirement already satisfied: threadpoolctl>=2.0.0 in c:\\users\\asus\\anaconda3\\lib\\site-packages (from scikit-learn->fastai>=2.6->fastbook) (2.2.0)\n",
      "Requirement already satisfied: parso<0.9.0,>=0.8.0 in c:\\users\\asus\\anaconda3\\lib\\site-packages (from jedi>=0.16->ipython>=4.0.0->ipywidgets<8->fastbook) (0.8.3)\n",
      "Requirement already satisfied: pyrsistent!=0.17.0,!=0.17.1,!=0.17.2,>=0.14.0 in c:\\users\\asus\\anaconda3\\lib\\site-packages (from jsonschema>=2.6->nbformat>=4.2.0->ipywidgets<8->fastbook) (0.18.0)\n",
      "Requirement already satisfied: entrypoints in c:\\users\\asus\\anaconda3\\lib\\site-packages (from jupyter-client>=6.1.12->ipykernel>=4.5.1->ipywidgets<8->fastbook) (0.4)\n",
      "Requirement already satisfied: pywin32>=1.0 in c:\\users\\asus\\anaconda3\\lib\\site-packages (from jupyter_core->nbformat>=4.2.0->ipywidgets<8->fastbook) (302)\n",
      "Requirement already satisfied: prometheus-client in c:\\users\\asus\\anaconda3\\lib\\site-packages (from notebook>=4.4.1->widgetsnbextension~=3.5.0->ipywidgets<8->fastbook) (0.14.1)\n",
      "Requirement already satisfied: terminado>=0.8.3 in c:\\users\\asus\\anaconda3\\lib\\site-packages (from notebook>=4.4.1->widgetsnbextension~=3.5.0->ipywidgets<8->fastbook) (0.13.1)\n",
      "Requirement already satisfied: argon2-cffi in c:\\users\\asus\\anaconda3\\lib\\site-packages (from notebook>=4.4.1->widgetsnbextension~=3.5.0->ipywidgets<8->fastbook) (21.3.0)\n",
      "Requirement already satisfied: Send2Trash>=1.8.0 in c:\\users\\asus\\anaconda3\\lib\\site-packages (from notebook>=4.4.1->widgetsnbextension~=3.5.0->ipywidgets<8->fastbook) (1.8.0)\n",
      "Requirement already satisfied: nbconvert>=5 in c:\\users\\asus\\anaconda3\\lib\\site-packages (from notebook>=4.4.1->widgetsnbextension~=3.5.0->ipywidgets<8->fastbook) (7.2.4)\n",
      "Requirement already satisfied: smart-open<6.0.0,>=5.2.1 in c:\\users\\asus\\anaconda3\\lib\\site-packages (from pathy>=0.3.5->spacy<4->fastai>=2.6->fastbook) (5.2.1)\n",
      "Requirement already satisfied: wcwidth in c:\\users\\asus\\anaconda3\\lib\\site-packages (from prompt-toolkit!=3.0.0,!=3.0.1,<3.1.0,>=2.0.0->ipython>=4.0.0->ipywidgets<8->fastbook) (0.2.5)\n",
      "Requirement already satisfied: confection<1.0.0,>=0.0.1 in c:\\users\\asus\\anaconda3\\lib\\site-packages (from thinc<8.2.0,>=8.1.0->spacy<4->fastai>=2.6->fastbook) (0.0.3)\n",
      "Requirement already satisfied: blis<0.8.0,>=0.7.8 in c:\\users\\asus\\anaconda3\\lib\\site-packages (from thinc<8.2.0,>=8.1.0->spacy<4->fastai>=2.6->fastbook) (0.7.9)\n",
      "Requirement already satisfied: click<9.0.0,>=7.1.1 in c:\\users\\asus\\anaconda3\\lib\\site-packages (from typer<0.5.0,>=0.3.0->spacy<4->fastai>=2.6->fastbook) (8.0.4)\n",
      "Requirement already satisfied: MarkupSafe>=2.0 in c:\\users\\asus\\anaconda3\\lib\\site-packages (from jinja2->spacy<4->fastai>=2.6->fastbook) (2.0.1)\n",
      "Requirement already satisfied: defusedxml in c:\\users\\asus\\anaconda3\\lib\\site-packages (from nbconvert>=5->notebook>=4.4.1->widgetsnbextension~=3.5.0->ipywidgets<8->fastbook) (0.7.1)\n",
      "Requirement already satisfied: jupyterlab-pygments in c:\\users\\asus\\anaconda3\\lib\\site-packages (from nbconvert>=5->notebook>=4.4.1->widgetsnbextension~=3.5.0->ipywidgets<8->fastbook) (0.1.2)\n",
      "Requirement already satisfied: bleach in c:\\users\\asus\\anaconda3\\lib\\site-packages (from nbconvert>=5->notebook>=4.4.1->widgetsnbextension~=3.5.0->ipywidgets<8->fastbook) (4.1.0)\n",
      "Requirement already satisfied: mistune<3,>=2.0.3 in c:\\users\\asus\\anaconda3\\lib\\site-packages (from nbconvert>=5->notebook>=4.4.1->widgetsnbextension~=3.5.0->ipywidgets<8->fastbook) (2.0.4)\n",
      "Requirement already satisfied: pandocfilters>=1.4.1 in c:\\users\\asus\\anaconda3\\lib\\site-packages (from nbconvert>=5->notebook>=4.4.1->widgetsnbextension~=3.5.0->ipywidgets<8->fastbook) (1.5.0)\n",
      "Requirement already satisfied: tinycss2 in c:\\users\\asus\\anaconda3\\lib\\site-packages (from nbconvert>=5->notebook>=4.4.1->widgetsnbextension~=3.5.0->ipywidgets<8->fastbook) (1.2.1)\n",
      "Requirement already satisfied: beautifulsoup4 in c:\\users\\asus\\anaconda3\\lib\\site-packages (from nbconvert>=5->notebook>=4.4.1->widgetsnbextension~=3.5.0->ipywidgets<8->fastbook) (4.11.1)\n",
      "Requirement already satisfied: importlib-metadata>=3.6 in c:\\users\\asus\\anaconda3\\lib\\site-packages (from nbconvert>=5->notebook>=4.4.1->widgetsnbextension~=3.5.0->ipywidgets<8->fastbook) (4.11.3)\n",
      "Requirement already satisfied: nbclient>=0.5.0 in c:\\users\\asus\\anaconda3\\lib\\site-packages (from nbconvert>=5->notebook>=4.4.1->widgetsnbextension~=3.5.0->ipywidgets<8->fastbook) (0.5.13)\n",
      "Requirement already satisfied: pywinpty>=1.1.0 in c:\\users\\asus\\anaconda3\\lib\\site-packages (from terminado>=0.8.3->notebook>=4.4.1->widgetsnbextension~=3.5.0->ipywidgets<8->fastbook) (2.0.2)\n",
      "Requirement already satisfied: argon2-cffi-bindings in c:\\users\\asus\\anaconda3\\lib\\site-packages (from argon2-cffi->notebook>=4.4.1->widgetsnbextension~=3.5.0->ipywidgets<8->fastbook) (21.2.0)\n",
      "Requirement already satisfied: zipp>=0.5 in c:\\users\\asus\\anaconda3\\lib\\site-packages (from importlib-metadata>=3.6->nbconvert>=5->notebook>=4.4.1->widgetsnbextension~=3.5.0->ipywidgets<8->fastbook) (3.8.0)\n",
      "Requirement already satisfied: cffi>=1.0.1 in c:\\users\\asus\\anaconda3\\lib\\site-packages (from argon2-cffi-bindings->argon2-cffi->notebook>=4.4.1->widgetsnbextension~=3.5.0->ipywidgets<8->fastbook) (1.15.1)\n",
      "Requirement already satisfied: soupsieve>1.2 in c:\\users\\asus\\anaconda3\\lib\\site-packages (from beautifulsoup4->nbconvert>=5->notebook>=4.4.1->widgetsnbextension~=3.5.0->ipywidgets<8->fastbook) (2.3.1)\n",
      "Requirement already satisfied: webencodings in c:\\users\\asus\\anaconda3\\lib\\site-packages (from bleach->nbconvert>=5->notebook>=4.4.1->widgetsnbextension~=3.5.0->ipywidgets<8->fastbook) (0.5.1)\n",
      "Requirement already satisfied: pycparser in c:\\users\\asus\\anaconda3\\lib\\site-packages (from cffi>=1.0.1->argon2-cffi-bindings->argon2-cffi->notebook>=4.4.1->widgetsnbextension~=3.5.0->ipywidgets<8->fastbook) (2.21)\n"
     ]
    },
    {
     "data": {
      "text/plain": [
       "(#1) [Path('export.pkl')]"
      ]
     },
     "execution_count": 5,
     "metadata": {},
     "output_type": "execute_result"
    }
   ],
   "source": [
    "from fastai.vision.all import *\n",
    "from fastai.vision.widgets import *\n",
    "import os\n",
    "import shutil\n",
    "# import utils\n",
    "!pip install fastbook\n",
    "import fastbook\n",
    "path = Path()\n",
    "path.ls(file_exts='.pkl')\n"
   ]
  },
  {
   "cell_type": "code",
   "execution_count": 6,
   "metadata": {},
   "outputs": [],
   "source": [
    "learn_ing = load_learner(path/'export.pkl')"
   ]
  },
  {
   "cell_type": "code",
   "execution_count": 7,
   "metadata": {},
   "outputs": [],
   "source": [
    "btn_upload = SimpleNamespace(data = [r\"D:\\Deep Learning\\Deep Learning for Coder fast.ai\\bears\\41ypb39SsSL._SY450_.jpg\"])\n",
    "img = PILImage.create(btn_upload.data[-1])"
   ]
  },
  {
   "cell_type": "code",
   "execution_count": 8,
   "metadata": {},
   "outputs": [],
   "source": [
    "out_pl = widgets.Output()\n",
    "out_pl.clear_output()\n",
    "with out_pl: display(img.to_thumb(128))\n"
   ]
  },
  {
   "cell_type": "code",
   "execution_count": 9,
   "metadata": {},
   "outputs": [
    {
     "data": {
      "application/vnd.jupyter.widget-view+json": {
       "model_id": "e9832f65b46e4248bd894455c50c5ec5",
       "version_major": 2,
       "version_minor": 0
      },
      "text/plain": [
       "Output(outputs=({'output_type': 'display_data', 'data': {'text/plain': '<PIL.Image.Image image mode=RGB size=1…"
      ]
     },
     "metadata": {},
     "output_type": "display_data"
    }
   ],
   "source": [
    "out_pl"
   ]
  },
  {
   "cell_type": "code",
   "execution_count": 10,
   "metadata": {},
   "outputs": [
    {
     "data": {
      "text/html": [
       "\n",
       "<style>\n",
       "    /* Turns off some styling */\n",
       "    progress {\n",
       "        /* gets rid of default border in Firefox and Opera. */\n",
       "        border: none;\n",
       "        /* Needs to be in here for Safari polyfill so background images work as expected. */\n",
       "        background-size: auto;\n",
       "    }\n",
       "    progress:not([value]), progress:not([value])::-webkit-progress-bar {\n",
       "        background: repeating-linear-gradient(45deg, #7e7e7e, #7e7e7e 10px, #5c5c5c 10px, #5c5c5c 20px);\n",
       "    }\n",
       "    .progress-bar-interrupted, .progress-bar-interrupted::-webkit-progress-bar {\n",
       "        background: #F44336;\n",
       "    }\n",
       "</style>\n"
      ],
      "text/plain": [
       "<IPython.core.display.HTML object>"
      ]
     },
     "metadata": {},
     "output_type": "display_data"
    },
    {
     "data": {
      "text/html": [],
      "text/plain": [
       "<IPython.core.display.HTML object>"
      ]
     },
     "metadata": {},
     "output_type": "display_data"
    }
   ],
   "source": [
    "pred, pred_idx, probs = learn_ing.predict(img)\n"
   ]
  },
  {
   "cell_type": "code",
   "execution_count": 11,
   "metadata": {},
   "outputs": [
    {
     "data": {
      "application/vnd.jupyter.widget-view+json": {
       "model_id": "a745948e4610478ca4d7bb5e5898050d",
       "version_major": 2,
       "version_minor": 0
      },
      "text/plain": [
       "Label(value='Prediction: teddy bear; Probability: 1.0000')"
      ]
     },
     "metadata": {},
     "output_type": "display_data"
    }
   ],
   "source": [
    "lbl_pred = widgets.Label()\n",
    "lbl_pred.value = f'Prediction: {pred}; Probability: {probs[pred_idx]:.04f}'\n",
    "lbl_pred"
   ]
  },
  {
   "cell_type": "code",
   "execution_count": 12,
   "metadata": {},
   "outputs": [
    {
     "data": {
      "application/vnd.jupyter.widget-view+json": {
       "model_id": "5093ff99ad8f48528ad5cf3a21b16689",
       "version_major": 2,
       "version_minor": 0
      },
      "text/plain": [
       "Button(description='Classify', style=ButtonStyle())"
      ]
     },
     "metadata": {},
     "output_type": "display_data"
    }
   ],
   "source": [
    "btn_run = widgets.Button(description='Classify')\n",
    "btn_run"
   ]
  },
  {
   "cell_type": "code",
   "execution_count": 13,
   "metadata": {},
   "outputs": [],
   "source": [
    "def on_click_classify(change):\n",
    "    img = PILImage.create(btn_upload.data[-1])\n",
    "    out_pl.clear_output()\n",
    "    with out_pl: display(img.to_thumb(128))\n",
    "    pred, pred_idx, probs = Learn.ing.predict(img)\n",
    "    lbl_pred.value = f'Prediction: {pred}; Probability: {probs[pred_idx]:.04f}'"
   ]
  },
  {
   "cell_type": "code",
   "execution_count": 14,
   "metadata": {},
   "outputs": [],
   "source": [
    "btn_run.on_click(on_click_classify)"
   ]
  },
  {
   "cell_type": "code",
   "execution_count": 15,
   "metadata": {},
   "outputs": [],
   "source": [
    "btn_upload = widgets.FileUpload()"
   ]
  },
  {
   "cell_type": "code",
   "execution_count": 16,
   "metadata": {},
   "outputs": [
    {
     "data": {
      "application/vnd.jupyter.widget-view+json": {
       "model_id": "d538b9568a7c41ba9bcb5408b15aba9c",
       "version_major": 2,
       "version_minor": 0
      },
      "text/plain": [
       "VBox(children=(Label(value='Select your bear!'), FileUpload(value={}, description='Upload'), Button(descriptio…"
      ]
     },
     "metadata": {},
     "output_type": "display_data"
    }
   ],
   "source": [
    "VBox([widgets.Label('Select your bear!'),\n",
    "     btn_upload, btn_run, out_pl, lbl_pred])"
   ]
  },
  {
   "cell_type": "code",
   "execution_count": 1,
   "metadata": {},
   "outputs": [
    {
     "name": "stdout",
     "output_type": "stream",
     "text": [
      "Requirement already satisfied: voila in c:\\users\\asus\\anaconda3\\lib\\site-packages (0.4.0)\n",
      "Requirement already satisfied: jupyterlab-server<3,>=2.3.0 in c:\\users\\asus\\anaconda3\\lib\\site-packages (from voila) (2.10.3)\n",
      "Requirement already satisfied: nbconvert<8,>=6.4.5 in c:\\users\\asus\\anaconda3\\lib\\site-packages (from voila) (7.2.4)\n",
      "Requirement already satisfied: nbclient<0.8,>=0.4.0 in c:\\users\\asus\\anaconda3\\lib\\site-packages (from voila) (0.5.13)\n",
      "Requirement already satisfied: jupyter-core>=4.11.0 in c:\\users\\asus\\anaconda3\\lib\\site-packages (from voila) (4.11.1)\n",
      "Requirement already satisfied: websockets>=9.0 in c:\\users\\asus\\anaconda3\\lib\\site-packages (from voila) (10.4)\n",
      "Requirement already satisfied: traitlets<6,>=5.0.3 in c:\\users\\asus\\anaconda3\\lib\\site-packages (from voila) (5.1.1)\n",
      "Requirement already satisfied: jupyter-server<2.0.0,>=1.18 in c:\\users\\asus\\anaconda3\\lib\\site-packages (from voila) (1.18.1)\n",
      "Requirement already satisfied: jupyter-client<=7.4.1,>=6.1.3 in c:\\users\\asus\\anaconda3\\lib\\site-packages (from voila) (7.3.4)\n",
      "Requirement already satisfied: nest-asyncio>=1.5.4 in c:\\users\\asus\\anaconda3\\lib\\site-packages (from jupyter-client<=7.4.1,>=6.1.3->voila) (1.5.5)\n",
      "Requirement already satisfied: entrypoints in c:\\users\\asus\\anaconda3\\lib\\site-packages (from jupyter-client<=7.4.1,>=6.1.3->voila) (0.4)\n",
      "Requirement already satisfied: tornado>=6.0 in c:\\users\\asus\\anaconda3\\lib\\site-packages (from jupyter-client<=7.4.1,>=6.1.3->voila) (6.1)\n",
      "Requirement already satisfied: pyzmq>=23.0 in c:\\users\\asus\\anaconda3\\lib\\site-packages (from jupyter-client<=7.4.1,>=6.1.3->voila) (23.2.0)\n",
      "Requirement already satisfied: python-dateutil>=2.8.2 in c:\\users\\asus\\anaconda3\\lib\\site-packages (from jupyter-client<=7.4.1,>=6.1.3->voila) (2.8.2)\n",
      "Requirement already satisfied: pywin32>=1.0 in c:\\users\\asus\\anaconda3\\lib\\site-packages (from jupyter-core>=4.11.0->voila) (302)\n",
      "Requirement already satisfied: packaging in c:\\users\\asus\\anaconda3\\lib\\site-packages (from jupyter-server<2.0.0,>=1.18->voila) (21.3)\n",
      "Requirement already satisfied: anyio<4,>=3.1.0 in c:\\users\\asus\\anaconda3\\lib\\site-packages (from jupyter-server<2.0.0,>=1.18->voila) (3.5.0)\n",
      "Requirement already satisfied: Send2Trash in c:\\users\\asus\\anaconda3\\lib\\site-packages (from jupyter-server<2.0.0,>=1.18->voila) (1.8.0)\n",
      "Requirement already satisfied: pywinpty in c:\\users\\asus\\anaconda3\\lib\\site-packages (from jupyter-server<2.0.0,>=1.18->voila) (2.0.2)\n",
      "Requirement already satisfied: prometheus-client in c:\\users\\asus\\anaconda3\\lib\\site-packages (from jupyter-server<2.0.0,>=1.18->voila) (0.14.1)\n",
      "Requirement already satisfied: terminado>=0.8.3 in c:\\users\\asus\\anaconda3\\lib\\site-packages (from jupyter-server<2.0.0,>=1.18->voila) (0.13.1)\n",
      "Requirement already satisfied: websocket-client in c:\\users\\asus\\anaconda3\\lib\\site-packages (from jupyter-server<2.0.0,>=1.18->voila) (0.58.0)\n",
      "Requirement already satisfied: nbformat>=5.2.0 in c:\\users\\asus\\anaconda3\\lib\\site-packages (from jupyter-server<2.0.0,>=1.18->voila) (5.5.0)\n",
      "Requirement already satisfied: argon2-cffi in c:\\users\\asus\\anaconda3\\lib\\site-packages (from jupyter-server<2.0.0,>=1.18->voila) (21.3.0)\n",
      "Requirement already satisfied: jinja2 in c:\\users\\asus\\anaconda3\\lib\\site-packages (from jupyter-server<2.0.0,>=1.18->voila) (3.1.2)\n",
      "Requirement already satisfied: jsonschema>=3.0.1 in c:\\users\\asus\\anaconda3\\lib\\site-packages (from jupyterlab-server<3,>=2.3.0->voila) (4.16.0)\n",
      "Requirement already satisfied: requests in c:\\users\\asus\\anaconda3\\lib\\site-packages (from jupyterlab-server<3,>=2.3.0->voila) (2.28.1)\n",
      "Requirement already satisfied: babel in c:\\users\\asus\\anaconda3\\lib\\site-packages (from jupyterlab-server<3,>=2.3.0->voila) (2.9.1)\n",
      "Requirement already satisfied: json5 in c:\\users\\asus\\anaconda3\\lib\\site-packages (from jupyterlab-server<3,>=2.3.0->voila) (0.9.6)\n",
      "Requirement already satisfied: beautifulsoup4 in c:\\users\\asus\\anaconda3\\lib\\site-packages (from nbconvert<8,>=6.4.5->voila) (4.11.1)\n",
      "Requirement already satisfied: pandocfilters>=1.4.1 in c:\\users\\asus\\anaconda3\\lib\\site-packages (from nbconvert<8,>=6.4.5->voila) (1.5.0)\n",
      "Requirement already satisfied: jupyterlab-pygments in c:\\users\\asus\\anaconda3\\lib\\site-packages (from nbconvert<8,>=6.4.5->voila) (0.1.2)\n",
      "Requirement already satisfied: pygments>=2.4.1 in c:\\users\\asus\\anaconda3\\lib\\site-packages (from nbconvert<8,>=6.4.5->voila) (2.11.2)\n",
      "Requirement already satisfied: tinycss2 in c:\\users\\asus\\anaconda3\\lib\\site-packages (from nbconvert<8,>=6.4.5->voila) (1.2.1)\n",
      "Requirement already satisfied: markupsafe>=2.0 in c:\\users\\asus\\anaconda3\\lib\\site-packages (from nbconvert<8,>=6.4.5->voila) (2.0.1)\n",
      "Requirement already satisfied: defusedxml in c:\\users\\asus\\anaconda3\\lib\\site-packages (from nbconvert<8,>=6.4.5->voila) (0.7.1)\n",
      "Requirement already satisfied: importlib-metadata>=3.6 in c:\\users\\asus\\anaconda3\\lib\\site-packages (from nbconvert<8,>=6.4.5->voila) (4.11.3)\n",
      "Requirement already satisfied: mistune<3,>=2.0.3 in c:\\users\\asus\\anaconda3\\lib\\site-packages (from nbconvert<8,>=6.4.5->voila) (2.0.4)\n",
      "Requirement already satisfied: bleach in c:\\users\\asus\\anaconda3\\lib\\site-packages (from nbconvert<8,>=6.4.5->voila) (4.1.0)\n",
      "Requirement already satisfied: idna>=2.8 in c:\\users\\asus\\anaconda3\\lib\\site-packages (from anyio<4,>=3.1.0->jupyter-server<2.0.0,>=1.18->voila) (3.3)\n",
      "Requirement already satisfied: sniffio>=1.1 in c:\\users\\asus\\anaconda3\\lib\\site-packages (from anyio<4,>=3.1.0->jupyter-server<2.0.0,>=1.18->voila) (1.2.0)\n",
      "Requirement already satisfied: zipp>=0.5 in c:\\users\\asus\\anaconda3\\lib\\site-packages (from importlib-metadata>=3.6->nbconvert<8,>=6.4.5->voila) (3.8.0)\n",
      "Requirement already satisfied: pyrsistent!=0.17.0,!=0.17.1,!=0.17.2,>=0.14.0 in c:\\users\\asus\\anaconda3\\lib\\site-packages (from jsonschema>=3.0.1->jupyterlab-server<3,>=2.3.0->voila) (0.18.0)\n",
      "Requirement already satisfied: attrs>=17.4.0 in c:\\users\\asus\\anaconda3\\lib\\site-packages (from jsonschema>=3.0.1->jupyterlab-server<3,>=2.3.0->voila) (21.4.0)\n",
      "Requirement already satisfied: fastjsonschema in c:\\users\\asus\\anaconda3\\lib\\site-packages (from nbformat>=5.2.0->jupyter-server<2.0.0,>=1.18->voila) (2.16.2)\n",
      "Requirement already satisfied: six>=1.5 in c:\\users\\asus\\anaconda3\\lib\\site-packages (from python-dateutil>=2.8.2->jupyter-client<=7.4.1,>=6.1.3->voila) (1.16.0)\n",
      "Requirement already satisfied: argon2-cffi-bindings in c:\\users\\asus\\anaconda3\\lib\\site-packages (from argon2-cffi->jupyter-server<2.0.0,>=1.18->voila) (21.2.0)\n",
      "Requirement already satisfied: pytz>=2015.7 in c:\\users\\asus\\anaconda3\\lib\\site-packages (from babel->jupyterlab-server<3,>=2.3.0->voila) (2022.1)\n",
      "Requirement already satisfied: soupsieve>1.2 in c:\\users\\asus\\anaconda3\\lib\\site-packages (from beautifulsoup4->nbconvert<8,>=6.4.5->voila) (2.3.1)\n",
      "Requirement already satisfied: webencodings in c:\\users\\asus\\anaconda3\\lib\\site-packages (from bleach->nbconvert<8,>=6.4.5->voila) (0.5.1)\n",
      "Requirement already satisfied: pyparsing!=3.0.5,>=2.0.2 in c:\\users\\asus\\anaconda3\\lib\\site-packages (from packaging->jupyter-server<2.0.0,>=1.18->voila) (3.0.9)\n",
      "Requirement already satisfied: charset-normalizer<3,>=2 in c:\\users\\asus\\anaconda3\\lib\\site-packages (from requests->jupyterlab-server<3,>=2.3.0->voila) (2.0.4)\n",
      "Requirement already satisfied: urllib3<1.27,>=1.21.1 in c:\\users\\asus\\anaconda3\\lib\\site-packages (from requests->jupyterlab-server<3,>=2.3.0->voila) (1.26.11)\n",
      "Requirement already satisfied: certifi>=2017.4.17 in c:\\users\\asus\\anaconda3\\lib\\site-packages (from requests->jupyterlab-server<3,>=2.3.0->voila) (2022.9.14)\n",
      "Requirement already satisfied: cffi>=1.0.1 in c:\\users\\asus\\anaconda3\\lib\\site-packages (from argon2-cffi-bindings->argon2-cffi->jupyter-server<2.0.0,>=1.18->voila) (1.15.1)\n",
      "Requirement already satisfied: pycparser in c:\\users\\asus\\anaconda3\\lib\\site-packages (from cffi>=1.0.1->argon2-cffi-bindings->argon2-cffi->jupyter-server<2.0.0,>=1.18->voila) (2.21)\n"
     ]
    },
    {
     "name": "stderr",
     "output_type": "stream",
     "text": [
      "Enabling: voila\n",
      "- Writing config: C:\\Users\\Asus\\anaconda3\\etc\\jupyter\n",
      "    - Validating...\n",
      "      voila 0.4.0 ok\n"
     ]
    }
   ],
   "source": [
    "!pip install voila\n",
    "!jupyter serverextension enable --sys-prefix voila"
   ]
  }
 ],
 "metadata": {
  "kernelspec": {
   "display_name": "Python 3.9.13 ('base')",
   "language": "python",
   "name": "python3"
  },
  "language_info": {
   "codemirror_mode": {
    "name": "ipython",
    "version": 3
   },
   "file_extension": ".py",
   "mimetype": "text/x-python",
   "name": "python",
   "nbconvert_exporter": "python",
   "pygments_lexer": "ipython3",
   "version": "3.9.13"
  },
  "orig_nbformat": 4,
  "vscode": {
   "interpreter": {
    "hash": "52d90d3cc821dd0beedd6e719dbdecc722c226b9d90ed1b663c34e1877f1142e"
   }
  }
 },
 "nbformat": 4,
 "nbformat_minor": 2
}
